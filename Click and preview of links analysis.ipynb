{
 "cells": [
  {
   "cell_type": "code",
   "execution_count": 1,
   "id": "bcb821f0",
   "metadata": {},
   "outputs": [],
   "source": [
    "import pandas as pd\n",
    "import matplotlib.pyplot as plt\n",
    "import numpy as np\n",
    "import seaborn as sns\n",
    "from scipy.stats import stats"
   ]
  },
  {
   "cell_type": "code",
   "execution_count": 2,
   "id": "3732e045",
   "metadata": {},
   "outputs": [],
   "source": [
    "df = pd.read_csv('traffic.csv')"
   ]
  },
  {
   "cell_type": "code",
   "execution_count": 3,
   "id": "ce676286",
   "metadata": {},
   "outputs": [
    {
     "data": {
      "text/html": [
       "<div>\n",
       "<style scoped>\n",
       "    .dataframe tbody tr th:only-of-type {\n",
       "        vertical-align: middle;\n",
       "    }\n",
       "\n",
       "    .dataframe tbody tr th {\n",
       "        vertical-align: top;\n",
       "    }\n",
       "\n",
       "    .dataframe thead th {\n",
       "        text-align: right;\n",
       "    }\n",
       "</style>\n",
       "<table border=\"1\" class=\"dataframe\">\n",
       "  <thead>\n",
       "    <tr style=\"text-align: right;\">\n",
       "      <th></th>\n",
       "      <th>event</th>\n",
       "      <th>date</th>\n",
       "      <th>country</th>\n",
       "      <th>city</th>\n",
       "      <th>artist</th>\n",
       "      <th>album</th>\n",
       "      <th>track</th>\n",
       "      <th>isrc</th>\n",
       "      <th>linkid</th>\n",
       "    </tr>\n",
       "  </thead>\n",
       "  <tbody>\n",
       "    <tr>\n",
       "      <th>0</th>\n",
       "      <td>click</td>\n",
       "      <td>2021-08-21</td>\n",
       "      <td>Saudi Arabia</td>\n",
       "      <td>Jeddah</td>\n",
       "      <td>Tesher</td>\n",
       "      <td>Jalebi Baby</td>\n",
       "      <td>Jalebi Baby</td>\n",
       "      <td>QZNWQ2070741</td>\n",
       "      <td>2d896d31-97b6-4869-967b-1c5fb9cd4bb8</td>\n",
       "    </tr>\n",
       "    <tr>\n",
       "      <th>1</th>\n",
       "      <td>click</td>\n",
       "      <td>2021-08-21</td>\n",
       "      <td>Saudi Arabia</td>\n",
       "      <td>Jeddah</td>\n",
       "      <td>Tesher</td>\n",
       "      <td>Jalebi Baby</td>\n",
       "      <td>Jalebi Baby</td>\n",
       "      <td>QZNWQ2070741</td>\n",
       "      <td>2d896d31-97b6-4869-967b-1c5fb9cd4bb8</td>\n",
       "    </tr>\n",
       "    <tr>\n",
       "      <th>2</th>\n",
       "      <td>click</td>\n",
       "      <td>2021-08-21</td>\n",
       "      <td>India</td>\n",
       "      <td>Ludhiana</td>\n",
       "      <td>Reyanna Maria</td>\n",
       "      <td>So Pretty</td>\n",
       "      <td>So Pretty</td>\n",
       "      <td>USUM72100871</td>\n",
       "      <td>23199824-9cf5-4b98-942a-34965c3b0cc2</td>\n",
       "    </tr>\n",
       "    <tr>\n",
       "      <th>3</th>\n",
       "      <td>click</td>\n",
       "      <td>2021-08-21</td>\n",
       "      <td>France</td>\n",
       "      <td>Unknown</td>\n",
       "      <td>Simone &amp; Simaria, Sebastian Yatra</td>\n",
       "      <td>No Llores Más</td>\n",
       "      <td>No Llores Más</td>\n",
       "      <td>BRUM72003904</td>\n",
       "      <td>35573248-4e49-47c7-af80-08a960fa74cd</td>\n",
       "    </tr>\n",
       "    <tr>\n",
       "      <th>4</th>\n",
       "      <td>click</td>\n",
       "      <td>2021-08-21</td>\n",
       "      <td>Maldives</td>\n",
       "      <td>Malé</td>\n",
       "      <td>Tesher</td>\n",
       "      <td>Jalebi Baby</td>\n",
       "      <td>Jalebi Baby</td>\n",
       "      <td>QZNWQ2070741</td>\n",
       "      <td>2d896d31-97b6-4869-967b-1c5fb9cd4bb8</td>\n",
       "    </tr>\n",
       "  </tbody>\n",
       "</table>\n",
       "</div>"
      ],
      "text/plain": [
       "   event        date       country      city  \\\n",
       "0  click  2021-08-21  Saudi Arabia    Jeddah   \n",
       "1  click  2021-08-21  Saudi Arabia    Jeddah   \n",
       "2  click  2021-08-21         India  Ludhiana   \n",
       "3  click  2021-08-21        France   Unknown   \n",
       "4  click  2021-08-21      Maldives      Malé   \n",
       "\n",
       "                              artist          album          track  \\\n",
       "0                             Tesher    Jalebi Baby    Jalebi Baby   \n",
       "1                             Tesher    Jalebi Baby    Jalebi Baby   \n",
       "2                      Reyanna Maria      So Pretty      So Pretty   \n",
       "3  Simone & Simaria, Sebastian Yatra  No Llores Más  No Llores Más   \n",
       "4                             Tesher    Jalebi Baby    Jalebi Baby   \n",
       "\n",
       "           isrc                                linkid  \n",
       "0  QZNWQ2070741  2d896d31-97b6-4869-967b-1c5fb9cd4bb8  \n",
       "1  QZNWQ2070741  2d896d31-97b6-4869-967b-1c5fb9cd4bb8  \n",
       "2  USUM72100871  23199824-9cf5-4b98-942a-34965c3b0cc2  \n",
       "3  BRUM72003904  35573248-4e49-47c7-af80-08a960fa74cd  \n",
       "4  QZNWQ2070741  2d896d31-97b6-4869-967b-1c5fb9cd4bb8  "
      ]
     },
     "execution_count": 3,
     "metadata": {},
     "output_type": "execute_result"
    }
   ],
   "source": [
    "df.head()"
   ]
  },
  {
   "cell_type": "markdown",
   "id": "2617f910",
   "metadata": {},
   "source": [
    "This dataset contains different event ['click', 'preview', 'pageview'] linked to artist, album, track, country, city and date <br>\n",
    "isrc - it is unique id for music/video, so every track has unique isrc <br>\n",
    "Data were collected for 6 days 19-08-2021 - 25.08.2021"
   ]
  },
  {
   "cell_type": "code",
   "execution_count": 4,
   "id": "acfba451",
   "metadata": {},
   "outputs": [
    {
     "name": "stdout",
     "output_type": "stream",
     "text": [
      "<class 'pandas.core.frame.DataFrame'>\n",
      "RangeIndex: 226278 entries, 0 to 226277\n",
      "Data columns (total 9 columns):\n",
      " #   Column   Non-Null Count   Dtype \n",
      "---  ------   --------------   ----- \n",
      " 0   event    226278 non-null  object\n",
      " 1   date     226278 non-null  object\n",
      " 2   country  226267 non-null  object\n",
      " 3   city     226267 non-null  object\n",
      " 4   artist   226241 non-null  object\n",
      " 5   album    226273 non-null  object\n",
      " 6   track    226273 non-null  object\n",
      " 7   isrc     219157 non-null  object\n",
      " 8   linkid   226278 non-null  object\n",
      "dtypes: object(9)\n",
      "memory usage: 15.5+ MB\n"
     ]
    }
   ],
   "source": [
    "df.info()"
   ]
  },
  {
   "cell_type": "markdown",
   "id": "88739dfa",
   "metadata": {},
   "source": [
    "Total pageview events in the full period and per day"
   ]
  },
  {
   "cell_type": "code",
   "execution_count": 6,
   "id": "a2e36ea9",
   "metadata": {},
   "outputs": [
    {
     "data": {
      "text/plain": [
       "pageview    142015\n",
       "click        55732\n",
       "preview      28531\n",
       "Name: event, dtype: int64"
      ]
     },
     "execution_count": 6,
     "metadata": {},
     "output_type": "execute_result"
    }
   ],
   "source": [
    "#dataset cointains three types of events: pagieview, click, preview\n",
    "df['event'].value_counts()"
   ]
  },
  {
   "cell_type": "code",
   "execution_count": 9,
   "id": "9f31cd8c",
   "metadata": {},
   "outputs": [
    {
     "data": {
      "text/plain": [
       "142015"
      ]
     },
     "execution_count": 9,
     "metadata": {},
     "output_type": "execute_result"
    }
   ],
   "source": [
    "#total pagieview events is the number of rows where \"event\" == \"pagieview\"\n",
    "df[df['event']=='pageview'].size[0]"
   ]
  },
  {
   "cell_type": "code",
   "execution_count": 14,
   "id": "2017efa6",
   "metadata": {},
   "outputs": [
    {
     "data": {
      "text/html": [
       "<div>\n",
       "<style scoped>\n",
       "    .dataframe tbody tr th:only-of-type {\n",
       "        vertical-align: middle;\n",
       "    }\n",
       "\n",
       "    .dataframe tbody tr th {\n",
       "        vertical-align: top;\n",
       "    }\n",
       "\n",
       "    .dataframe thead th {\n",
       "        text-align: right;\n",
       "    }\n",
       "</style>\n",
       "<table border=\"1\" class=\"dataframe\">\n",
       "  <thead>\n",
       "    <tr style=\"text-align: right;\">\n",
       "      <th></th>\n",
       "      <th>pageview_perday</th>\n",
       "    </tr>\n",
       "    <tr>\n",
       "      <th>date</th>\n",
       "      <th></th>\n",
       "    </tr>\n",
       "  </thead>\n",
       "  <tbody>\n",
       "    <tr>\n",
       "      <th>2021-08-19</th>\n",
       "      <td>22366</td>\n",
       "    </tr>\n",
       "    <tr>\n",
       "      <th>2021-08-20</th>\n",
       "      <td>21382</td>\n",
       "    </tr>\n",
       "    <tr>\n",
       "      <th>2021-08-21</th>\n",
       "      <td>21349</td>\n",
       "    </tr>\n",
       "    <tr>\n",
       "      <th>2021-08-22</th>\n",
       "      <td>20430</td>\n",
       "    </tr>\n",
       "    <tr>\n",
       "      <th>2021-08-23</th>\n",
       "      <td>18646</td>\n",
       "    </tr>\n",
       "    <tr>\n",
       "      <th>2021-08-24</th>\n",
       "      <td>18693</td>\n",
       "    </tr>\n",
       "    <tr>\n",
       "      <th>2021-08-25</th>\n",
       "      <td>19149</td>\n",
       "    </tr>\n",
       "  </tbody>\n",
       "</table>\n",
       "</div>"
      ],
      "text/plain": [
       "            pageview_perday\n",
       "date                       \n",
       "2021-08-19            22366\n",
       "2021-08-20            21382\n",
       "2021-08-21            21349\n",
       "2021-08-22            20430\n",
       "2021-08-23            18646\n",
       "2021-08-24            18693\n",
       "2021-08-25            19149"
      ]
     },
     "execution_count": 14,
     "metadata": {},
     "output_type": "execute_result"
    }
   ],
   "source": [
    "pageview_perday = df[df['event'] == 'pageview'].groupby('date').size().to_frame('pageview_perday')\n",
    "pageview_perday "
   ]
  },
  {
   "cell_type": "markdown",
   "id": "0e0f6d8f",
   "metadata": {},
   "source": [
    "The same user views the same page multiple times, it will be counted each time. <br> \n",
    "Use df.drop_duplicates() to modify this behaviour and see the difference."
   ]
  },
  {
   "cell_type": "code",
   "execution_count": 18,
   "id": "3a74ff6a",
   "metadata": {},
   "outputs": [],
   "source": [
    "df_deduplicated = df.drop_duplicates()"
   ]
  },
  {
   "cell_type": "code",
   "execution_count": 19,
   "id": "939a8049",
   "metadata": {},
   "outputs": [
    {
     "data": {
      "text/plain": [
       "pageview    73360\n",
       "click       32499\n",
       "preview     16708\n",
       "Name: event, dtype: int64"
      ]
     },
     "execution_count": 19,
     "metadata": {},
     "output_type": "execute_result"
    }
   ],
   "source": [
    "df_deduplicated[\"event\"].value_counts()"
   ]
  },
  {
   "cell_type": "code",
   "execution_count": 20,
   "id": "f2e145c1",
   "metadata": {},
   "outputs": [
    {
     "data": {
      "text/plain": [
       "73360"
      ]
     },
     "execution_count": 20,
     "metadata": {},
     "output_type": "execute_result"
    }
   ],
   "source": [
    "df_deduplicated[df_deduplicated[\"event\"] == \"pageview\"].shape[0]"
   ]
  },
  {
   "cell_type": "code",
   "execution_count": 21,
   "id": "ddbb21f7",
   "metadata": {},
   "outputs": [
    {
     "data": {
      "text/plain": [
       "date\n",
       "2021-08-19    13006\n",
       "2021-08-20    11088\n",
       "2021-08-21     9939\n",
       "2021-08-22     9982\n",
       "2021-08-23     9722\n",
       "2021-08-24     9705\n",
       "2021-08-25     9918\n",
       "Name: event, dtype: int64"
      ]
     },
     "execution_count": 21,
     "metadata": {},
     "output_type": "execute_result"
    }
   ],
   "source": [
    "df_deduplicated[df_deduplicated[\"event\"] == \"pageview\"].groupby(by=\"date\")[\"event\"].count()"
   ]
  },
  {
   "cell_type": "markdown",
   "id": "92bd827a",
   "metadata": {},
   "source": [
    "Other events in the full period and per day using a loop "
   ]
  },
  {
   "cell_type": "code",
   "execution_count": 25,
   "id": "d2784b93",
   "metadata": {},
   "outputs": [
    {
     "data": {
      "text/plain": [
       "{'click', 'pageview', 'preview'}"
      ]
     },
     "execution_count": 25,
     "metadata": {},
     "output_type": "execute_result"
    }
   ],
   "source": [
    "# get the set of recorded events in the data\n",
    "recorded_events = set(df[\"event\"].unique())\n",
    "recorded_events"
   ]
  },
  {
   "cell_type": "code",
   "execution_count": 26,
   "id": "8676c88b",
   "metadata": {},
   "outputs": [
    {
     "name": "stdout",
     "output_type": "stream",
     "text": [
      "Total number of preview events is 28531 \n",
      "\n",
      "preview event distribution per day:\n",
      "\n",
      "date\n",
      "2021-08-19    3788\n",
      "2021-08-20    4222\n",
      "2021-08-21    4663\n",
      "2021-08-22    4349\n",
      "2021-08-23    3847\n",
      "2021-08-24    3840\n",
      "2021-08-25    3822\n",
      "Name: event, dtype: int64 \n",
      "\n",
      "Total number of pageview events is 142015 \n",
      "\n",
      "pageview event distribution per day:\n",
      "\n",
      "date\n",
      "2021-08-19    22366\n",
      "2021-08-20    21382\n",
      "2021-08-21    21349\n",
      "2021-08-22    20430\n",
      "2021-08-23    18646\n",
      "2021-08-24    18693\n",
      "2021-08-25    19149\n",
      "Name: event, dtype: int64 \n",
      "\n",
      "Total number of click events is 55732 \n",
      "\n",
      "click event distribution per day:\n",
      "\n",
      "date\n",
      "2021-08-19    9207\n",
      "2021-08-20    8508\n",
      "2021-08-21    8071\n",
      "2021-08-22    7854\n",
      "2021-08-23    7315\n",
      "2021-08-24    7301\n",
      "2021-08-25    7476\n",
      "Name: event, dtype: int64 \n",
      "\n"
     ]
    }
   ],
   "source": [
    "for recorded_event in recorded_events:\n",
    "    # get the total number of occurrences\n",
    "    total_events = df[df[\"event\"] == recorded_event].shape[0]\n",
    "    print(\"Total number of\", recorded_event, \"events is\", total_events, \"\\n\")\n",
    "    # group by the date and aggregate by count\n",
    "    data_set = df[df[\"event\"] == recorded_event].groupby(by=\"date\")[\"event\"].count()\n",
    "    print(recorded_event, \"event distribution per day:\\n\")\n",
    "    print(data_set, \"\\n\")"
   ]
  },
  {
   "cell_type": "markdown",
   "id": "ebcfcb6b",
   "metadata": {},
   "source": [
    "Which countries did the pageviews come from?"
   ]
  },
  {
   "cell_type": "code",
   "execution_count": 35,
   "id": "a1783d1e",
   "metadata": {},
   "outputs": [
    {
     "data": {
      "text/html": [
       "<div>\n",
       "<style scoped>\n",
       "    .dataframe tbody tr th:only-of-type {\n",
       "        vertical-align: middle;\n",
       "    }\n",
       "\n",
       "    .dataframe tbody tr th {\n",
       "        vertical-align: top;\n",
       "    }\n",
       "\n",
       "    .dataframe thead th {\n",
       "        text-align: right;\n",
       "    }\n",
       "</style>\n",
       "<table border=\"1\" class=\"dataframe\">\n",
       "  <thead>\n",
       "    <tr style=\"text-align: right;\">\n",
       "      <th></th>\n",
       "      <th>Country</th>\n",
       "    </tr>\n",
       "  </thead>\n",
       "  <tbody>\n",
       "    <tr>\n",
       "      <th>0</th>\n",
       "      <td>Saudi Arabia</td>\n",
       "    </tr>\n",
       "    <tr>\n",
       "      <th>1</th>\n",
       "      <td>India</td>\n",
       "    </tr>\n",
       "    <tr>\n",
       "      <th>2</th>\n",
       "      <td>France</td>\n",
       "    </tr>\n",
       "    <tr>\n",
       "      <th>3</th>\n",
       "      <td>Maldives</td>\n",
       "    </tr>\n",
       "    <tr>\n",
       "      <th>4</th>\n",
       "      <td>United States</td>\n",
       "    </tr>\n",
       "    <tr>\n",
       "      <th>...</th>\n",
       "      <td>...</td>\n",
       "    </tr>\n",
       "    <tr>\n",
       "      <th>197</th>\n",
       "      <td>Guernsey</td>\n",
       "    </tr>\n",
       "    <tr>\n",
       "      <th>198</th>\n",
       "      <td>Palau</td>\n",
       "    </tr>\n",
       "    <tr>\n",
       "      <th>199</th>\n",
       "      <td>Åland</td>\n",
       "    </tr>\n",
       "    <tr>\n",
       "      <th>200</th>\n",
       "      <td>Principality of Monaco</td>\n",
       "    </tr>\n",
       "    <tr>\n",
       "      <th>201</th>\n",
       "      <td>Brunei</td>\n",
       "    </tr>\n",
       "  </tbody>\n",
       "</table>\n",
       "<p>202 rows × 1 columns</p>\n",
       "</div>"
      ],
      "text/plain": [
       "                    Country\n",
       "0              Saudi Arabia\n",
       "1                     India\n",
       "2                    France\n",
       "3                  Maldives\n",
       "4             United States\n",
       "..                      ...\n",
       "197                Guernsey\n",
       "198                   Palau\n",
       "199                   Åland\n",
       "200  Principality of Monaco\n",
       "201                  Brunei\n",
       "\n",
       "[202 rows x 1 columns]"
      ]
     },
     "execution_count": 35,
     "metadata": {},
     "output_type": "execute_result"
    }
   ],
   "source": [
    "# filter for the proper event\n",
    "df_q3 = df[df[\"event\"] == \"click\"]\n",
    "# or alternatively, you can loop over the array provided by df.unique() and print them all\n",
    "pd.DataFrame(data=df_q3[\"country\"].dropna().unique(), columns=[\"Country\"])"
   ]
  },
  {
   "cell_type": "code",
   "execution_count": 32,
   "id": "3ed1016d",
   "metadata": {},
   "outputs": [
    {
     "data": {
      "text/html": [
       "<div>\n",
       "<style scoped>\n",
       "    .dataframe tbody tr th:only-of-type {\n",
       "        vertical-align: middle;\n",
       "    }\n",
       "\n",
       "    .dataframe tbody tr th {\n",
       "        vertical-align: top;\n",
       "    }\n",
       "\n",
       "    .dataframe thead th {\n",
       "        text-align: right;\n",
       "    }\n",
       "</style>\n",
       "<table border=\"1\" class=\"dataframe\">\n",
       "  <thead>\n",
       "    <tr style=\"text-align: right;\">\n",
       "      <th></th>\n",
       "      <th>Country</th>\n",
       "    </tr>\n",
       "  </thead>\n",
       "  <tbody>\n",
       "    <tr>\n",
       "      <th>0</th>\n",
       "      <td>Saudi Arabia</td>\n",
       "    </tr>\n",
       "    <tr>\n",
       "      <th>1</th>\n",
       "      <td>United States</td>\n",
       "    </tr>\n",
       "    <tr>\n",
       "      <th>2</th>\n",
       "      <td>Ireland</td>\n",
       "    </tr>\n",
       "    <tr>\n",
       "      <th>3</th>\n",
       "      <td>United Kingdom</td>\n",
       "    </tr>\n",
       "    <tr>\n",
       "      <th>4</th>\n",
       "      <td>France</td>\n",
       "    </tr>\n",
       "    <tr>\n",
       "      <th>...</th>\n",
       "      <td>...</td>\n",
       "    </tr>\n",
       "    <tr>\n",
       "      <th>206</th>\n",
       "      <td>Afghanistan</td>\n",
       "    </tr>\n",
       "    <tr>\n",
       "      <th>207</th>\n",
       "      <td>Central African Republic</td>\n",
       "    </tr>\n",
       "    <tr>\n",
       "      <th>208</th>\n",
       "      <td>Guernsey</td>\n",
       "    </tr>\n",
       "    <tr>\n",
       "      <th>209</th>\n",
       "      <td>Sint Maarten</td>\n",
       "    </tr>\n",
       "    <tr>\n",
       "      <th>210</th>\n",
       "      <td>Saint Martin</td>\n",
       "    </tr>\n",
       "  </tbody>\n",
       "</table>\n",
       "<p>211 rows × 1 columns</p>\n",
       "</div>"
      ],
      "text/plain": [
       "                      Country\n",
       "0                Saudi Arabia\n",
       "1               United States\n",
       "2                     Ireland\n",
       "3              United Kingdom\n",
       "4                      France\n",
       "..                        ...\n",
       "206               Afghanistan\n",
       "207  Central African Republic\n",
       "208                  Guernsey\n",
       "209              Sint Maarten\n",
       "210              Saint Martin\n",
       "\n",
       "[211 rows x 1 columns]"
      ]
     },
     "execution_count": 32,
     "metadata": {},
     "output_type": "execute_result"
    }
   ],
   "source": [
    "pd.DataFrame(data=countries, columns=['Country'])"
   ]
  },
  {
   "cell_type": "markdown",
   "id": "750f4551",
   "metadata": {},
   "source": [
    "\n",
    "The overall click rate (clicks/pageviews)? <br>\n",
    "The click rate is the number of clicks that a page has received (event = 'click') divided by the number of time it has been shown (event = 'pageview'). "
   ]
  },
  {
   "cell_type": "code",
   "execution_count": 40,
   "id": "6bca390a",
   "metadata": {},
   "outputs": [],
   "source": [
    "#filter only \"clicks\" and grouped them by \"linkid\"\n",
    "link_clicks = df[df['event'] == 'click'].groupby(by='linkid')['event'].count().reset_index()\n",
    "link_clicks = link_clicks.rename(columns={\n",
    "    \"event\": \"clicks\" # rename column for easier manipulation\n",
    "})\n",
    "\n",
    "#do the same for the \"pageview\" events\n",
    "link_pageviews = df[df[\"event\"] == \"pageview\"].groupby(by=\"linkid\")[\"event\"].count().reset_index()\n",
    "link_pageviews = pageviews.rename(columns={\n",
    "    \"event\": \"pageviews\"\n",
    "})"
   ]
  },
  {
   "cell_type": "code",
   "execution_count": 41,
   "id": "4b9a4ac7",
   "metadata": {},
   "outputs": [
    {
     "data": {
      "text/html": [
       "<div>\n",
       "<style scoped>\n",
       "    .dataframe tbody tr th:only-of-type {\n",
       "        vertical-align: middle;\n",
       "    }\n",
       "\n",
       "    .dataframe tbody tr th {\n",
       "        vertical-align: top;\n",
       "    }\n",
       "\n",
       "    .dataframe thead th {\n",
       "        text-align: right;\n",
       "    }\n",
       "</style>\n",
       "<table border=\"1\" class=\"dataframe\">\n",
       "  <thead>\n",
       "    <tr style=\"text-align: right;\">\n",
       "      <th></th>\n",
       "      <th>linkid</th>\n",
       "      <th>clicks</th>\n",
       "    </tr>\n",
       "  </thead>\n",
       "  <tbody>\n",
       "    <tr>\n",
       "      <th>0</th>\n",
       "      <td>00126b32-0c35-507b-981c-02c80d2aa8e7</td>\n",
       "      <td>2</td>\n",
       "    </tr>\n",
       "    <tr>\n",
       "      <th>1</th>\n",
       "      <td>004b9724-abca-5481-b6e9-6148a7ca00a5</td>\n",
       "      <td>1</td>\n",
       "    </tr>\n",
       "    <tr>\n",
       "      <th>2</th>\n",
       "      <td>0063a982-41cd-5629-96d0-e1c4dd72ea11</td>\n",
       "      <td>2</td>\n",
       "    </tr>\n",
       "    <tr>\n",
       "      <th>3</th>\n",
       "      <td>006af6a0-1f0d-4b0c-93bf-756af9071c06</td>\n",
       "      <td>8</td>\n",
       "    </tr>\n",
       "    <tr>\n",
       "      <th>4</th>\n",
       "      <td>00759b81-3f04-4a61-b934-f8fb3185f4a0</td>\n",
       "      <td>3</td>\n",
       "    </tr>\n",
       "  </tbody>\n",
       "</table>\n",
       "</div>"
      ],
      "text/plain": [
       "                                 linkid  clicks\n",
       "0  00126b32-0c35-507b-981c-02c80d2aa8e7       2\n",
       "1  004b9724-abca-5481-b6e9-6148a7ca00a5       1\n",
       "2  0063a982-41cd-5629-96d0-e1c4dd72ea11       2\n",
       "3  006af6a0-1f0d-4b0c-93bf-756af9071c06       8\n",
       "4  00759b81-3f04-4a61-b934-f8fb3185f4a0       3"
      ]
     },
     "execution_count": 41,
     "metadata": {},
     "output_type": "execute_result"
    }
   ],
   "source": [
    "link_clicks.head()"
   ]
  },
  {
   "cell_type": "code",
   "execution_count": 42,
   "id": "b136b1d5",
   "metadata": {},
   "outputs": [
    {
     "data": {
      "text/html": [
       "<div>\n",
       "<style scoped>\n",
       "    .dataframe tbody tr th:only-of-type {\n",
       "        vertical-align: middle;\n",
       "    }\n",
       "\n",
       "    .dataframe tbody tr th {\n",
       "        vertical-align: top;\n",
       "    }\n",
       "\n",
       "    .dataframe thead th {\n",
       "        text-align: right;\n",
       "    }\n",
       "</style>\n",
       "<table border=\"1\" class=\"dataframe\">\n",
       "  <thead>\n",
       "    <tr style=\"text-align: right;\">\n",
       "      <th></th>\n",
       "      <th>linkid</th>\n",
       "      <th>pageviews</th>\n",
       "    </tr>\n",
       "  </thead>\n",
       "  <tbody>\n",
       "    <tr>\n",
       "      <th>0</th>\n",
       "      <td>00073307-ae96-5089-a117-4783afb42f8e</td>\n",
       "      <td>2</td>\n",
       "    </tr>\n",
       "    <tr>\n",
       "      <th>1</th>\n",
       "      <td>00126b32-0c35-507b-981c-02c80d2aa8e7</td>\n",
       "      <td>2</td>\n",
       "    </tr>\n",
       "    <tr>\n",
       "      <th>2</th>\n",
       "      <td>0018cfff-50a1-5984-9715-01ef2d11a49a</td>\n",
       "      <td>1</td>\n",
       "    </tr>\n",
       "    <tr>\n",
       "      <th>3</th>\n",
       "      <td>0033934b-5d16-5a06-af58-d087bcdd3680</td>\n",
       "      <td>1</td>\n",
       "    </tr>\n",
       "    <tr>\n",
       "      <th>4</th>\n",
       "      <td>0034d6cf-3bd8-5ffe-aafc-b3959fc48608</td>\n",
       "      <td>1</td>\n",
       "    </tr>\n",
       "  </tbody>\n",
       "</table>\n",
       "</div>"
      ],
      "text/plain": [
       "                                 linkid  pageviews\n",
       "0  00073307-ae96-5089-a117-4783afb42f8e          2\n",
       "1  00126b32-0c35-507b-981c-02c80d2aa8e7          2\n",
       "2  0018cfff-50a1-5984-9715-01ef2d11a49a          1\n",
       "3  0033934b-5d16-5a06-af58-d087bcdd3680          1\n",
       "4  0034d6cf-3bd8-5ffe-aafc-b3959fc48608          1"
      ]
     },
     "execution_count": 42,
     "metadata": {},
     "output_type": "execute_result"
    }
   ],
   "source": [
    "link_pageviews.head()"
   ]
  },
  {
   "cell_type": "code",
   "execution_count": 43,
   "id": "74991857",
   "metadata": {},
   "outputs": [],
   "source": [
    "#join these two Dataframes on the same link Id\n",
    "df_q4 = pd.merge(left = link_clicks, right = link_pageviews, on = 'linkid', how = 'inner')"
   ]
  },
  {
   "cell_type": "code",
   "execution_count": 46,
   "id": "fb8fa3da",
   "metadata": {},
   "outputs": [],
   "source": [
    "df_q4['click_rate'] = df_q4['clicks']/df_q4['pageviews']"
   ]
  },
  {
   "cell_type": "code",
   "execution_count": 47,
   "id": "4904810b",
   "metadata": {},
   "outputs": [
    {
     "data": {
      "text/html": [
       "<div>\n",
       "<style scoped>\n",
       "    .dataframe tbody tr th:only-of-type {\n",
       "        vertical-align: middle;\n",
       "    }\n",
       "\n",
       "    .dataframe tbody tr th {\n",
       "        vertical-align: top;\n",
       "    }\n",
       "\n",
       "    .dataframe thead th {\n",
       "        text-align: right;\n",
       "    }\n",
       "</style>\n",
       "<table border=\"1\" class=\"dataframe\">\n",
       "  <thead>\n",
       "    <tr style=\"text-align: right;\">\n",
       "      <th></th>\n",
       "      <th>linkid</th>\n",
       "      <th>clicks</th>\n",
       "      <th>pageviews</th>\n",
       "      <th>click_rate</th>\n",
       "    </tr>\n",
       "  </thead>\n",
       "  <tbody>\n",
       "    <tr>\n",
       "      <th>0</th>\n",
       "      <td>00126b32-0c35-507b-981c-02c80d2aa8e7</td>\n",
       "      <td>2</td>\n",
       "      <td>2</td>\n",
       "      <td>1.000000</td>\n",
       "    </tr>\n",
       "    <tr>\n",
       "      <th>1</th>\n",
       "      <td>004b9724-abca-5481-b6e9-6148a7ca00a5</td>\n",
       "      <td>1</td>\n",
       "      <td>1</td>\n",
       "      <td>1.000000</td>\n",
       "    </tr>\n",
       "    <tr>\n",
       "      <th>2</th>\n",
       "      <td>0063a982-41cd-5629-96d0-e1c4dd72ea11</td>\n",
       "      <td>2</td>\n",
       "      <td>3</td>\n",
       "      <td>0.666667</td>\n",
       "    </tr>\n",
       "    <tr>\n",
       "      <th>3</th>\n",
       "      <td>006af6a0-1f0d-4b0c-93bf-756af9071c06</td>\n",
       "      <td>8</td>\n",
       "      <td>36</td>\n",
       "      <td>0.222222</td>\n",
       "    </tr>\n",
       "    <tr>\n",
       "      <th>4</th>\n",
       "      <td>00759b81-3f04-4a61-b934-f8fb3185f4a0</td>\n",
       "      <td>3</td>\n",
       "      <td>4</td>\n",
       "      <td>0.750000</td>\n",
       "    </tr>\n",
       "    <tr>\n",
       "      <th>...</th>\n",
       "      <td>...</td>\n",
       "      <td>...</td>\n",
       "      <td>...</td>\n",
       "      <td>...</td>\n",
       "    </tr>\n",
       "    <tr>\n",
       "      <th>2248</th>\n",
       "      <td>ffd8d5a7-91bc-48e1-a692-c26fca8a8ead</td>\n",
       "      <td>29</td>\n",
       "      <td>84</td>\n",
       "      <td>0.345238</td>\n",
       "    </tr>\n",
       "    <tr>\n",
       "      <th>2249</th>\n",
       "      <td>fff38ca0-8043-50cd-a5f1-f65ebb7105c5</td>\n",
       "      <td>1</td>\n",
       "      <td>1</td>\n",
       "      <td>1.000000</td>\n",
       "    </tr>\n",
       "    <tr>\n",
       "      <th>2250</th>\n",
       "      <td>fff84c0e-90a1-59d8-9997-adc909d50e16</td>\n",
       "      <td>1</td>\n",
       "      <td>1</td>\n",
       "      <td>1.000000</td>\n",
       "    </tr>\n",
       "    <tr>\n",
       "      <th>2251</th>\n",
       "      <td>fffc17a7-f935-5d3e-bd3e-d761fd80d479</td>\n",
       "      <td>1</td>\n",
       "      <td>2</td>\n",
       "      <td>0.500000</td>\n",
       "    </tr>\n",
       "    <tr>\n",
       "      <th>2252</th>\n",
       "      <td>fffd0045-29de-522b-b5d8-35786363bf07</td>\n",
       "      <td>1</td>\n",
       "      <td>2</td>\n",
       "      <td>0.500000</td>\n",
       "    </tr>\n",
       "  </tbody>\n",
       "</table>\n",
       "<p>2253 rows × 4 columns</p>\n",
       "</div>"
      ],
      "text/plain": [
       "                                    linkid  clicks  pageviews  click_rate\n",
       "0     00126b32-0c35-507b-981c-02c80d2aa8e7       2          2    1.000000\n",
       "1     004b9724-abca-5481-b6e9-6148a7ca00a5       1          1    1.000000\n",
       "2     0063a982-41cd-5629-96d0-e1c4dd72ea11       2          3    0.666667\n",
       "3     006af6a0-1f0d-4b0c-93bf-756af9071c06       8         36    0.222222\n",
       "4     00759b81-3f04-4a61-b934-f8fb3185f4a0       3          4    0.750000\n",
       "...                                    ...     ...        ...         ...\n",
       "2248  ffd8d5a7-91bc-48e1-a692-c26fca8a8ead      29         84    0.345238\n",
       "2249  fff38ca0-8043-50cd-a5f1-f65ebb7105c5       1          1    1.000000\n",
       "2250  fff84c0e-90a1-59d8-9997-adc909d50e16       1          1    1.000000\n",
       "2251  fffc17a7-f935-5d3e-bd3e-d761fd80d479       1          2    0.500000\n",
       "2252  fffd0045-29de-522b-b5d8-35786363bf07       1          2    0.500000\n",
       "\n",
       "[2253 rows x 4 columns]"
      ]
     },
     "execution_count": 47,
     "metadata": {},
     "output_type": "execute_result"
    }
   ],
   "source": [
    "df_q4"
   ]
  },
  {
   "cell_type": "markdown",
   "id": "2d9876d1",
   "metadata": {},
   "source": [
    "Distribution of clickrate across different links"
   ]
  },
  {
   "cell_type": "markdown",
   "id": "c554b26d",
   "metadata": {},
   "source": [
    "To get distribution of clickrate acrossdifferent links use the describe() method"
   ]
  },
  {
   "cell_type": "code",
   "execution_count": 49,
   "id": "6521eb39",
   "metadata": {},
   "outputs": [
    {
     "data": {
      "text/plain": [
       "count    2253.000000\n",
       "mean        0.809920\n",
       "std         1.958030\n",
       "min         0.090909\n",
       "25%         0.500000\n",
       "50%         1.000000\n",
       "75%         1.000000\n",
       "max        92.300000\n",
       "Name: click_rate, dtype: float64"
      ]
     },
     "execution_count": 49,
     "metadata": {},
     "output_type": "execute_result"
    }
   ],
   "source": [
    "df_q4['click_rate'].describe()"
   ]
  },
  {
   "cell_type": "code",
   "execution_count": 50,
   "id": "b41fc6a7",
   "metadata": {},
   "outputs": [
    {
     "data": {
      "text/plain": [
       "Text(0.5, 0, 'Click Rate')"
      ]
     },
     "execution_count": 50,
     "metadata": {},
     "output_type": "execute_result"
    },
    {
     "data": {
      "image/png": "[encoded data removed]",
      "text/plain": [
       "<Figure size 504x504 with 1 Axes>"
      ]
     },
     "metadata": {
      "needs_background": "light"
     },
     "output_type": "display_data"
    }
   ],
   "source": [
    "ax = df_q4['click_rate'].plot(kind='hist', figsize=(7,7), bins=100)\n",
    "ax.set_xlabel(\"Click Rate\")"
   ]
  },
  {
   "cell_type": "markdown",
   "id": "8612f3ce",
   "metadata": {},
   "source": [
    "Data is highly skewed to left, i.e., many of its values are very close to zero. <br>\n",
    "In such cases, a common workaround is to plot the histogram of the logarithm of the data"
   ]
  },
  {
   "cell_type": "code",
   "execution_count": 51,
   "id": "c3f26702",
   "metadata": {},
   "outputs": [
    {
     "data": {
      "text/plain": [
       "Text(0.5, 0, 'Log 2 click Rate')"
      ]
     },
     "execution_count": 51,
     "metadata": {},
     "output_type": "execute_result"
    },
    {
     "data": {
      "image/png": "[encoded data removed]",
      "text/plain": [
       "<Figure size 504x504 with 1 Axes>"
      ]
     },
     "metadata": {
      "needs_background": "light"
     },
     "output_type": "display_data"
    }
   ],
   "source": [
    "df_q4['click_rate_log2'] = np.log2(df_q4['click_rate'])\n",
    "ax = df_q4['click_rate_log2'].plot(kind='hist', figsize=(7,7), bins=100)\n",
    "ax.set_xlabel(\"Log 2 click Rate\")"
   ]
  },
  {
   "cell_type": "markdown",
   "id": "d1b83352",
   "metadata": {},
   "source": [
    "Doing these we remove all linkid where the ratio is 0, because  natural logarithm of zero is undefined Log(1) = 0 <br>\n",
    "<br>\n",
    "There is enormous spike at the 0 meaning that the actual click rate was 1\n",
    "It means there were many link id which where click and preview only once"
   ]
  },
  {
   "cell_type": "code",
   "execution_count": 52,
   "id": "8d8f9b70",
   "metadata": {},
   "outputs": [
    {
     "data": {
      "image/png": "[encoded data removed]",
      "text/plain": [
       "<Figure size 432x288 with 1 Axes>"
      ]
     },
     "metadata": {
      "needs_background": "light"
     },
     "output_type": "display_data"
    }
   ],
   "source": [
    "ax = df_q4.boxplot(column=\"click_rate_log2\")\n",
    "_ = ax.set_ylabel(\"Value\")"
   ]
  },
  {
   "cell_type": "markdown",
   "id": "1d0224af",
   "metadata": {},
   "source": [
    "Correlation between clicks and previews on a link"
   ]
  },
  {
   "cell_type": "markdown",
   "id": "8debb20a",
   "metadata": {},
   "source": [
    "Pearson's correlation coefficient is a measure of linear correlation between two dataset. It takes its value in the range og [-1,1] and futher it is from zero, the more significant the correlation is <br>\n",
    "<br>\n",
    "Pearson's coefficient is implemented in both Pandas and Scipy, and i am  going to use both libraries, just to explore their APIs and to compare results (should be the same)"
   ]
  },
  {
   "cell_type": "code",
   "execution_count": 53,
   "id": "f19e4be5",
   "metadata": {},
   "outputs": [],
   "source": [
    "df_q6 = df[df['event'].isin(['click','preview'])]"
   ]
  },
  {
   "cell_type": "code",
   "execution_count": 60,
   "id": "80cac250",
   "metadata": {},
   "outputs": [
    {
     "data": {
      "text/html": [
       "<div>\n",
       "<style scoped>\n",
       "    .dataframe tbody tr th:only-of-type {\n",
       "        vertical-align: middle;\n",
       "    }\n",
       "\n",
       "    .dataframe tbody tr th {\n",
       "        vertical-align: top;\n",
       "    }\n",
       "\n",
       "    .dataframe thead th {\n",
       "        text-align: right;\n",
       "    }\n",
       "</style>\n",
       "<table border=\"1\" class=\"dataframe\">\n",
       "  <thead>\n",
       "    <tr style=\"text-align: right;\">\n",
       "      <th></th>\n",
       "      <th>event</th>\n",
       "      <th>date</th>\n",
       "      <th>country</th>\n",
       "      <th>city</th>\n",
       "      <th>artist</th>\n",
       "      <th>album</th>\n",
       "      <th>track</th>\n",
       "      <th>isrc</th>\n",
       "      <th>linkid</th>\n",
       "    </tr>\n",
       "  </thead>\n",
       "  <tbody>\n",
       "    <tr>\n",
       "      <th>0</th>\n",
       "      <td>click</td>\n",
       "      <td>2021-08-21</td>\n",
       "      <td>Saudi Arabia</td>\n",
       "      <td>Jeddah</td>\n",
       "      <td>Tesher</td>\n",
       "      <td>Jalebi Baby</td>\n",
       "      <td>Jalebi Baby</td>\n",
       "      <td>QZNWQ2070741</td>\n",
       "      <td>2d896d31-97b6-4869-967b-1c5fb9cd4bb8</td>\n",
       "    </tr>\n",
       "  </tbody>\n",
       "</table>\n",
       "</div>"
      ],
      "text/plain": [
       "   event        date       country    city  artist        album        track  \\\n",
       "0  click  2021-08-21  Saudi Arabia  Jeddah  Tesher  Jalebi Baby  Jalebi Baby   \n",
       "\n",
       "           isrc                                linkid  \n",
       "0  QZNWQ2070741  2d896d31-97b6-4869-967b-1c5fb9cd4bb8  "
      ]
     },
     "execution_count": 60,
     "metadata": {},
     "output_type": "execute_result"
    }
   ],
   "source": [
    "df_q6.head(1)"
   ]
  },
  {
   "cell_type": "code",
   "execution_count": 54,
   "id": "dd7afbd6",
   "metadata": {},
   "outputs": [
    {
     "data": {
      "text/html": [
       "<div>\n",
       "<style scoped>\n",
       "    .dataframe tbody tr th:only-of-type {\n",
       "        vertical-align: middle;\n",
       "    }\n",
       "\n",
       "    .dataframe tbody tr th {\n",
       "        vertical-align: top;\n",
       "    }\n",
       "\n",
       "    .dataframe thead th {\n",
       "        text-align: right;\n",
       "    }\n",
       "</style>\n",
       "<table border=\"1\" class=\"dataframe\">\n",
       "  <thead>\n",
       "    <tr style=\"text-align: right;\">\n",
       "      <th></th>\n",
       "      <th>event</th>\n",
       "      <th>date</th>\n",
       "      <th>country</th>\n",
       "      <th>city</th>\n",
       "      <th>artist</th>\n",
       "      <th>album</th>\n",
       "      <th>track</th>\n",
       "      <th>isrc</th>\n",
       "      <th>linkid</th>\n",
       "    </tr>\n",
       "  </thead>\n",
       "  <tbody>\n",
       "    <tr>\n",
       "      <th>count</th>\n",
       "      <td>84263</td>\n",
       "      <td>84263</td>\n",
       "      <td>84261</td>\n",
       "      <td>84261</td>\n",
       "      <td>84252</td>\n",
       "      <td>84262</td>\n",
       "      <td>84262</td>\n",
       "      <td>82036</td>\n",
       "      <td>84263</td>\n",
       "    </tr>\n",
       "    <tr>\n",
       "      <th>unique</th>\n",
       "      <td>2</td>\n",
       "      <td>7</td>\n",
       "      <td>206</td>\n",
       "      <td>8137</td>\n",
       "      <td>1549</td>\n",
       "      <td>2003</td>\n",
       "      <td>2155</td>\n",
       "      <td>628</td>\n",
       "      <td>2286</td>\n",
       "    </tr>\n",
       "    <tr>\n",
       "      <th>top</th>\n",
       "      <td>click</td>\n",
       "      <td>2021-08-19</td>\n",
       "      <td>Saudi Arabia</td>\n",
       "      <td>Jeddah</td>\n",
       "      <td>Tesher</td>\n",
       "      <td>Jalebi Baby</td>\n",
       "      <td>Jalebi Baby</td>\n",
       "      <td>QZNWQ2070741</td>\n",
       "      <td>2d896d31-97b6-4869-967b-1c5fb9cd4bb8</td>\n",
       "    </tr>\n",
       "    <tr>\n",
       "      <th>freq</th>\n",
       "      <td>55732</td>\n",
       "      <td>12995</td>\n",
       "      <td>18461</td>\n",
       "      <td>8893</td>\n",
       "      <td>15666</td>\n",
       "      <td>15666</td>\n",
       "      <td>15666</td>\n",
       "      <td>15666</td>\n",
       "      <td>15666</td>\n",
       "    </tr>\n",
       "  </tbody>\n",
       "</table>\n",
       "</div>"
      ],
      "text/plain": [
       "        event        date       country    city  artist        album  \\\n",
       "count   84263       84263         84261   84261   84252        84262   \n",
       "unique      2           7           206    8137    1549         2003   \n",
       "top     click  2021-08-19  Saudi Arabia  Jeddah  Tesher  Jalebi Baby   \n",
       "freq    55732       12995         18461    8893   15666        15666   \n",
       "\n",
       "              track          isrc                                linkid  \n",
       "count         84262         82036                                 84263  \n",
       "unique         2155           628                                  2286  \n",
       "top     Jalebi Baby  QZNWQ2070741  2d896d31-97b6-4869-967b-1c5fb9cd4bb8  \n",
       "freq          15666         15666                                 15666  "
      ]
     },
     "execution_count": 54,
     "metadata": {},
     "output_type": "execute_result"
    }
   ],
   "source": [
    "df_q6.describe()"
   ]
  },
  {
   "cell_type": "code",
   "execution_count": 56,
   "id": "48c984ce",
   "metadata": {},
   "outputs": [],
   "source": [
    "# filter only 'click' events and group them by the 'linkid' and get value_counts\n",
    "# i.e., number of clicks on each link\n",
    "link_clicks = df[df[\"event\"] == \"click\"].groupby(by=\"linkid\")[\"event\"].count().reset_index()\n",
    "link_clicks = link_clicks.rename(columns={\n",
    "    \"event\": \"clicks\" # rename column for easier manipulation\n",
    "})\n",
    "# do the same for the 'preview' events\n",
    "previews = df[df[\"event\"] == \"preview\"].groupby(by=\"linkid\")[\"event\"].count().reset_index()\n",
    "previews = previews.rename(columns={\n",
    "    \"event\": \"previews\"\n",
    "})"
   ]
  },
  {
   "cell_type": "code",
   "execution_count": 57,
   "id": "6dd55662",
   "metadata": {},
   "outputs": [
    {
     "data": {
      "text/html": [
       "<div>\n",
       "<style scoped>\n",
       "    .dataframe tbody tr th:only-of-type {\n",
       "        vertical-align: middle;\n",
       "    }\n",
       "\n",
       "    .dataframe tbody tr th {\n",
       "        vertical-align: top;\n",
       "    }\n",
       "\n",
       "    .dataframe thead th {\n",
       "        text-align: right;\n",
       "    }\n",
       "</style>\n",
       "<table border=\"1\" class=\"dataframe\">\n",
       "  <thead>\n",
       "    <tr style=\"text-align: right;\">\n",
       "      <th></th>\n",
       "      <th>linkid</th>\n",
       "      <th>clicks</th>\n",
       "    </tr>\n",
       "  </thead>\n",
       "  <tbody>\n",
       "    <tr>\n",
       "      <th>0</th>\n",
       "      <td>00126b32-0c35-507b-981c-02c80d2aa8e7</td>\n",
       "      <td>2</td>\n",
       "    </tr>\n",
       "    <tr>\n",
       "      <th>1</th>\n",
       "      <td>004b9724-abca-5481-b6e9-6148a7ca00a5</td>\n",
       "      <td>1</td>\n",
       "    </tr>\n",
       "    <tr>\n",
       "      <th>2</th>\n",
       "      <td>0063a982-41cd-5629-96d0-e1c4dd72ea11</td>\n",
       "      <td>2</td>\n",
       "    </tr>\n",
       "    <tr>\n",
       "      <th>3</th>\n",
       "      <td>006af6a0-1f0d-4b0c-93bf-756af9071c06</td>\n",
       "      <td>8</td>\n",
       "    </tr>\n",
       "    <tr>\n",
       "      <th>4</th>\n",
       "      <td>00759b81-3f04-4a61-b934-f8fb3185f4a0</td>\n",
       "      <td>3</td>\n",
       "    </tr>\n",
       "    <tr>\n",
       "      <th>...</th>\n",
       "      <td>...</td>\n",
       "      <td>...</td>\n",
       "    </tr>\n",
       "    <tr>\n",
       "      <th>2250</th>\n",
       "      <td>ffd8d5a7-91bc-48e1-a692-c26fca8a8ead</td>\n",
       "      <td>29</td>\n",
       "    </tr>\n",
       "    <tr>\n",
       "      <th>2251</th>\n",
       "      <td>fff38ca0-8043-50cd-a5f1-f65ebb7105c5</td>\n",
       "      <td>1</td>\n",
       "    </tr>\n",
       "    <tr>\n",
       "      <th>2252</th>\n",
       "      <td>fff84c0e-90a1-59d8-9997-adc909d50e16</td>\n",
       "      <td>1</td>\n",
       "    </tr>\n",
       "    <tr>\n",
       "      <th>2253</th>\n",
       "      <td>fffc17a7-f935-5d3e-bd3e-d761fd80d479</td>\n",
       "      <td>1</td>\n",
       "    </tr>\n",
       "    <tr>\n",
       "      <th>2254</th>\n",
       "      <td>fffd0045-29de-522b-b5d8-35786363bf07</td>\n",
       "      <td>1</td>\n",
       "    </tr>\n",
       "  </tbody>\n",
       "</table>\n",
       "<p>2255 rows × 2 columns</p>\n",
       "</div>"
      ],
      "text/plain": [
       "                                    linkid  clicks\n",
       "0     00126b32-0c35-507b-981c-02c80d2aa8e7       2\n",
       "1     004b9724-abca-5481-b6e9-6148a7ca00a5       1\n",
       "2     0063a982-41cd-5629-96d0-e1c4dd72ea11       2\n",
       "3     006af6a0-1f0d-4b0c-93bf-756af9071c06       8\n",
       "4     00759b81-3f04-4a61-b934-f8fb3185f4a0       3\n",
       "...                                    ...     ...\n",
       "2250  ffd8d5a7-91bc-48e1-a692-c26fca8a8ead      29\n",
       "2251  fff38ca0-8043-50cd-a5f1-f65ebb7105c5       1\n",
       "2252  fff84c0e-90a1-59d8-9997-adc909d50e16       1\n",
       "2253  fffc17a7-f935-5d3e-bd3e-d761fd80d479       1\n",
       "2254  fffd0045-29de-522b-b5d8-35786363bf07       1\n",
       "\n",
       "[2255 rows x 2 columns]"
      ]
     },
     "execution_count": 57,
     "metadata": {},
     "output_type": "execute_result"
    }
   ],
   "source": [
    "link_clicks"
   ]
  },
  {
   "cell_type": "code",
   "execution_count": 61,
   "id": "f2c927ca",
   "metadata": {},
   "outputs": [],
   "source": [
    "# perform two database-style joins to append the \n",
    "# number of link clicks and previews to each row\n",
    "df_q6 = pd.merge(left=df_q6, right=link_clicks, how=\"left\", on=\"linkid\")\n",
    "df_q6 = pd.merge(left=df_q6, right=previews, how=\"left\", on=\"linkid\")"
   ]
  },
  {
   "cell_type": "code",
   "execution_count": 62,
   "id": "2e171943",
   "metadata": {},
   "outputs": [
    {
     "data": {
      "text/html": [
       "<div>\n",
       "<style scoped>\n",
       "    .dataframe tbody tr th:only-of-type {\n",
       "        vertical-align: middle;\n",
       "    }\n",
       "\n",
       "    .dataframe tbody tr th {\n",
       "        vertical-align: top;\n",
       "    }\n",
       "\n",
       "    .dataframe thead th {\n",
       "        text-align: right;\n",
       "    }\n",
       "</style>\n",
       "<table border=\"1\" class=\"dataframe\">\n",
       "  <thead>\n",
       "    <tr style=\"text-align: right;\">\n",
       "      <th></th>\n",
       "      <th>event</th>\n",
       "      <th>date</th>\n",
       "      <th>country</th>\n",
       "      <th>city</th>\n",
       "      <th>artist</th>\n",
       "      <th>album</th>\n",
       "      <th>track</th>\n",
       "      <th>isrc</th>\n",
       "      <th>linkid</th>\n",
       "      <th>clicks</th>\n",
       "      <th>previews</th>\n",
       "    </tr>\n",
       "  </thead>\n",
       "  <tbody>\n",
       "    <tr>\n",
       "      <th>0</th>\n",
       "      <td>click</td>\n",
       "      <td>2021-08-21</td>\n",
       "      <td>Saudi Arabia</td>\n",
       "      <td>Jeddah</td>\n",
       "      <td>Tesher</td>\n",
       "      <td>Jalebi Baby</td>\n",
       "      <td>Jalebi Baby</td>\n",
       "      <td>QZNWQ2070741</td>\n",
       "      <td>2d896d31-97b6-4869-967b-1c5fb9cd4bb8</td>\n",
       "      <td>9692.0</td>\n",
       "      <td>5974.0</td>\n",
       "    </tr>\n",
       "    <tr>\n",
       "      <th>1</th>\n",
       "      <td>click</td>\n",
       "      <td>2021-08-21</td>\n",
       "      <td>Saudi Arabia</td>\n",
       "      <td>Jeddah</td>\n",
       "      <td>Tesher</td>\n",
       "      <td>Jalebi Baby</td>\n",
       "      <td>Jalebi Baby</td>\n",
       "      <td>QZNWQ2070741</td>\n",
       "      <td>2d896d31-97b6-4869-967b-1c5fb9cd4bb8</td>\n",
       "      <td>9692.0</td>\n",
       "      <td>5974.0</td>\n",
       "    </tr>\n",
       "    <tr>\n",
       "      <th>2</th>\n",
       "      <td>click</td>\n",
       "      <td>2021-08-21</td>\n",
       "      <td>India</td>\n",
       "      <td>Ludhiana</td>\n",
       "      <td>Reyanna Maria</td>\n",
       "      <td>So Pretty</td>\n",
       "      <td>So Pretty</td>\n",
       "      <td>USUM72100871</td>\n",
       "      <td>23199824-9cf5-4b98-942a-34965c3b0cc2</td>\n",
       "      <td>1187.0</td>\n",
       "      <td>718.0</td>\n",
       "    </tr>\n",
       "    <tr>\n",
       "      <th>3</th>\n",
       "      <td>click</td>\n",
       "      <td>2021-08-21</td>\n",
       "      <td>France</td>\n",
       "      <td>Unknown</td>\n",
       "      <td>Simone &amp; Simaria, Sebastian Yatra</td>\n",
       "      <td>No Llores Más</td>\n",
       "      <td>No Llores Más</td>\n",
       "      <td>BRUM72003904</td>\n",
       "      <td>35573248-4e49-47c7-af80-08a960fa74cd</td>\n",
       "      <td>69.0</td>\n",
       "      <td>30.0</td>\n",
       "    </tr>\n",
       "    <tr>\n",
       "      <th>4</th>\n",
       "      <td>click</td>\n",
       "      <td>2021-08-21</td>\n",
       "      <td>Maldives</td>\n",
       "      <td>Malé</td>\n",
       "      <td>Tesher</td>\n",
       "      <td>Jalebi Baby</td>\n",
       "      <td>Jalebi Baby</td>\n",
       "      <td>QZNWQ2070741</td>\n",
       "      <td>2d896d31-97b6-4869-967b-1c5fb9cd4bb8</td>\n",
       "      <td>9692.0</td>\n",
       "      <td>5974.0</td>\n",
       "    </tr>\n",
       "  </tbody>\n",
       "</table>\n",
       "</div>"
      ],
      "text/plain": [
       "   event        date       country      city  \\\n",
       "0  click  2021-08-21  Saudi Arabia    Jeddah   \n",
       "1  click  2021-08-21  Saudi Arabia    Jeddah   \n",
       "2  click  2021-08-21         India  Ludhiana   \n",
       "3  click  2021-08-21        France   Unknown   \n",
       "4  click  2021-08-21      Maldives      Malé   \n",
       "\n",
       "                              artist          album          track  \\\n",
       "0                             Tesher    Jalebi Baby    Jalebi Baby   \n",
       "1                             Tesher    Jalebi Baby    Jalebi Baby   \n",
       "2                      Reyanna Maria      So Pretty      So Pretty   \n",
       "3  Simone & Simaria, Sebastian Yatra  No Llores Más  No Llores Más   \n",
       "4                             Tesher    Jalebi Baby    Jalebi Baby   \n",
       "\n",
       "           isrc                                linkid  clicks  previews  \n",
       "0  QZNWQ2070741  2d896d31-97b6-4869-967b-1c5fb9cd4bb8  9692.0    5974.0  \n",
       "1  QZNWQ2070741  2d896d31-97b6-4869-967b-1c5fb9cd4bb8  9692.0    5974.0  \n",
       "2  USUM72100871  23199824-9cf5-4b98-942a-34965c3b0cc2  1187.0     718.0  \n",
       "3  BRUM72003904  35573248-4e49-47c7-af80-08a960fa74cd    69.0      30.0  \n",
       "4  QZNWQ2070741  2d896d31-97b6-4869-967b-1c5fb9cd4bb8  9692.0    5974.0  "
      ]
     },
     "execution_count": 62,
     "metadata": {},
     "output_type": "execute_result"
    }
   ],
   "source": [
    "df_q6.head()"
   ]
  },
  {
   "cell_type": "code",
   "execution_count": 65,
   "id": "dcb3f815",
   "metadata": {},
   "outputs": [
    {
     "data": {
      "text/html": [
       "<div>\n",
       "<style scoped>\n",
       "    .dataframe tbody tr th:only-of-type {\n",
       "        vertical-align: middle;\n",
       "    }\n",
       "\n",
       "    .dataframe tbody tr th {\n",
       "        vertical-align: top;\n",
       "    }\n",
       "\n",
       "    .dataframe thead th {\n",
       "        text-align: right;\n",
       "    }\n",
       "</style>\n",
       "<table border=\"1\" class=\"dataframe\">\n",
       "  <thead>\n",
       "    <tr style=\"text-align: right;\">\n",
       "      <th></th>\n",
       "      <th>event</th>\n",
       "      <th>date</th>\n",
       "      <th>country</th>\n",
       "      <th>city</th>\n",
       "      <th>artist</th>\n",
       "      <th>album</th>\n",
       "      <th>track</th>\n",
       "      <th>isrc</th>\n",
       "      <th>linkid</th>\n",
       "      <th>clicks</th>\n",
       "      <th>previews</th>\n",
       "    </tr>\n",
       "  </thead>\n",
       "  <tbody>\n",
       "    <tr>\n",
       "      <th>0</th>\n",
       "      <td>click</td>\n",
       "      <td>2021-08-21</td>\n",
       "      <td>Saudi Arabia</td>\n",
       "      <td>Jeddah</td>\n",
       "      <td>Tesher</td>\n",
       "      <td>Jalebi Baby</td>\n",
       "      <td>Jalebi Baby</td>\n",
       "      <td>QZNWQ2070741</td>\n",
       "      <td>2d896d31-97b6-4869-967b-1c5fb9cd4bb8</td>\n",
       "      <td>9692.0</td>\n",
       "      <td>5974.0</td>\n",
       "    </tr>\n",
       "    <tr>\n",
       "      <th>1</th>\n",
       "      <td>click</td>\n",
       "      <td>2021-08-21</td>\n",
       "      <td>Saudi Arabia</td>\n",
       "      <td>Jeddah</td>\n",
       "      <td>Tesher</td>\n",
       "      <td>Jalebi Baby</td>\n",
       "      <td>Jalebi Baby</td>\n",
       "      <td>QZNWQ2070741</td>\n",
       "      <td>2d896d31-97b6-4869-967b-1c5fb9cd4bb8</td>\n",
       "      <td>9692.0</td>\n",
       "      <td>5974.0</td>\n",
       "    </tr>\n",
       "    <tr>\n",
       "      <th>2</th>\n",
       "      <td>click</td>\n",
       "      <td>2021-08-21</td>\n",
       "      <td>India</td>\n",
       "      <td>Ludhiana</td>\n",
       "      <td>Reyanna Maria</td>\n",
       "      <td>So Pretty</td>\n",
       "      <td>So Pretty</td>\n",
       "      <td>USUM72100871</td>\n",
       "      <td>23199824-9cf5-4b98-942a-34965c3b0cc2</td>\n",
       "      <td>1187.0</td>\n",
       "      <td>718.0</td>\n",
       "    </tr>\n",
       "    <tr>\n",
       "      <th>3</th>\n",
       "      <td>click</td>\n",
       "      <td>2021-08-21</td>\n",
       "      <td>France</td>\n",
       "      <td>Unknown</td>\n",
       "      <td>Simone &amp; Simaria, Sebastian Yatra</td>\n",
       "      <td>No Llores Más</td>\n",
       "      <td>No Llores Más</td>\n",
       "      <td>BRUM72003904</td>\n",
       "      <td>35573248-4e49-47c7-af80-08a960fa74cd</td>\n",
       "      <td>69.0</td>\n",
       "      <td>30.0</td>\n",
       "    </tr>\n",
       "    <tr>\n",
       "      <th>4</th>\n",
       "      <td>click</td>\n",
       "      <td>2021-08-21</td>\n",
       "      <td>Maldives</td>\n",
       "      <td>Malé</td>\n",
       "      <td>Tesher</td>\n",
       "      <td>Jalebi Baby</td>\n",
       "      <td>Jalebi Baby</td>\n",
       "      <td>QZNWQ2070741</td>\n",
       "      <td>2d896d31-97b6-4869-967b-1c5fb9cd4bb8</td>\n",
       "      <td>9692.0</td>\n",
       "      <td>5974.0</td>\n",
       "    </tr>\n",
       "  </tbody>\n",
       "</table>\n",
       "</div>"
      ],
      "text/plain": [
       "   event        date       country      city  \\\n",
       "0  click  2021-08-21  Saudi Arabia    Jeddah   \n",
       "1  click  2021-08-21  Saudi Arabia    Jeddah   \n",
       "2  click  2021-08-21         India  Ludhiana   \n",
       "3  click  2021-08-21        France   Unknown   \n",
       "4  click  2021-08-21      Maldives      Malé   \n",
       "\n",
       "                              artist          album          track  \\\n",
       "0                             Tesher    Jalebi Baby    Jalebi Baby   \n",
       "1                             Tesher    Jalebi Baby    Jalebi Baby   \n",
       "2                      Reyanna Maria      So Pretty      So Pretty   \n",
       "3  Simone & Simaria, Sebastian Yatra  No Llores Más  No Llores Más   \n",
       "4                             Tesher    Jalebi Baby    Jalebi Baby   \n",
       "\n",
       "           isrc                                linkid  clicks  previews  \n",
       "0  QZNWQ2070741  2d896d31-97b6-4869-967b-1c5fb9cd4bb8  9692.0    5974.0  \n",
       "1  QZNWQ2070741  2d896d31-97b6-4869-967b-1c5fb9cd4bb8  9692.0    5974.0  \n",
       "2  USUM72100871  23199824-9cf5-4b98-942a-34965c3b0cc2  1187.0     718.0  \n",
       "3  BRUM72003904  35573248-4e49-47c7-af80-08a960fa74cd    69.0      30.0  \n",
       "4  QZNWQ2070741  2d896d31-97b6-4869-967b-1c5fb9cd4bb8  9692.0    5974.0  "
      ]
     },
     "execution_count": 65,
     "metadata": {},
     "output_type": "execute_result"
    }
   ],
   "source": [
    "df_q6.dropna(subset=[\"clicks\", \"previews\"], inplace=True)\n",
    "df_q6.head()"
   ]
  },
  {
   "cell_type": "markdown",
   "id": "4a9490c0",
   "metadata": {},
   "source": [
    "We calculate the person corr"
   ]
  },
  {
   "cell_type": "code",
   "execution_count": 66,
   "id": "80f153a3",
   "metadata": {},
   "outputs": [
    {
     "data": {
      "text/html": [
       "<div>\n",
       "<style scoped>\n",
       "    .dataframe tbody tr th:only-of-type {\n",
       "        vertical-align: middle;\n",
       "    }\n",
       "\n",
       "    .dataframe tbody tr th {\n",
       "        vertical-align: top;\n",
       "    }\n",
       "\n",
       "    .dataframe thead th {\n",
       "        text-align: right;\n",
       "    }\n",
       "</style>\n",
       "<table border=\"1\" class=\"dataframe\">\n",
       "  <thead>\n",
       "    <tr style=\"text-align: right;\">\n",
       "      <th></th>\n",
       "      <th>clicks</th>\n",
       "      <th>previews</th>\n",
       "    </tr>\n",
       "  </thead>\n",
       "  <tbody>\n",
       "    <tr>\n",
       "      <th>clicks</th>\n",
       "      <td>1.000000</td>\n",
       "      <td>0.998713</td>\n",
       "    </tr>\n",
       "    <tr>\n",
       "      <th>previews</th>\n",
       "      <td>0.998713</td>\n",
       "      <td>1.000000</td>\n",
       "    </tr>\n",
       "  </tbody>\n",
       "</table>\n",
       "</div>"
      ],
      "text/plain": [
       "            clicks  previews\n",
       "clicks    1.000000  0.998713\n",
       "previews  0.998713  1.000000"
      ]
     },
     "execution_count": 66,
     "metadata": {},
     "output_type": "execute_result"
    }
   ],
   "source": [
    "df_q6.corr()"
   ]
  },
  {
   "cell_type": "code",
   "execution_count": 67,
   "id": "ac2c0414",
   "metadata": {},
   "outputs": [
    {
     "data": {
      "text/plain": [
       "(0.9987125072008537, 0.0)"
      ]
     },
     "execution_count": 67,
     "metadata": {},
     "output_type": "execute_result"
    }
   ],
   "source": [
    "stats.pearsonr(x=df_q6[\"clicks\"], y=df_q6[\"previews\"])"
   ]
  },
  {
   "cell_type": "markdown",
   "id": "1453a4a3",
   "metadata": {},
   "source": [
    "Corr between the categorical data <br>\n",
    "Using pd.factorize() we can quantify the relationship between categorical variables in similar manner as with numerical variables. "
   ]
  },
  {
   "cell_type": "code",
   "execution_count": 68,
   "id": "3450ba1b",
   "metadata": {},
   "outputs": [
    {
     "name": "stdout",
     "output_type": "stream",
     "text": [
      "<class 'pandas.core.frame.DataFrame'>\n",
      "RangeIndex: 226278 entries, 0 to 226277\n",
      "Data columns (total 9 columns):\n",
      " #   Column   Non-Null Count   Dtype \n",
      "---  ------   --------------   ----- \n",
      " 0   event    226278 non-null  object\n",
      " 1   date     226278 non-null  object\n",
      " 2   country  226267 non-null  object\n",
      " 3   city     226267 non-null  object\n",
      " 4   artist   226241 non-null  object\n",
      " 5   album    226273 non-null  object\n",
      " 6   track    226273 non-null  object\n",
      " 7   isrc     219157 non-null  object\n",
      " 8   linkid   226278 non-null  object\n",
      "dtypes: object(9)\n",
      "memory usage: 15.5+ MB\n"
     ]
    }
   ],
   "source": [
    "df.info()"
   ]
  },
  {
   "cell_type": "code",
   "execution_count": 69,
   "id": "72f9b540",
   "metadata": {},
   "outputs": [],
   "source": [
    "categorical_columns = ['country','city','artist','album','track']"
   ]
  },
  {
   "cell_type": "code",
   "execution_count": 70,
   "id": "b4bd8fbd",
   "metadata": {},
   "outputs": [],
   "source": [
    "factorized_df = df_q6[categorical_columns].apply(lambda x: pd.factorize(x)[0]).corr()"
   ]
  },
  {
   "cell_type": "code",
   "execution_count": 71,
   "id": "c75090bb",
   "metadata": {},
   "outputs": [
    {
     "data": {
      "text/html": [
       "<div>\n",
       "<style scoped>\n",
       "    .dataframe tbody tr th:only-of-type {\n",
       "        vertical-align: middle;\n",
       "    }\n",
       "\n",
       "    .dataframe tbody tr th {\n",
       "        vertical-align: top;\n",
       "    }\n",
       "\n",
       "    .dataframe thead th {\n",
       "        text-align: right;\n",
       "    }\n",
       "</style>\n",
       "<table border=\"1\" class=\"dataframe\">\n",
       "  <thead>\n",
       "    <tr style=\"text-align: right;\">\n",
       "      <th></th>\n",
       "      <th>country</th>\n",
       "      <th>city</th>\n",
       "      <th>artist</th>\n",
       "      <th>album</th>\n",
       "      <th>track</th>\n",
       "    </tr>\n",
       "  </thead>\n",
       "  <tbody>\n",
       "    <tr>\n",
       "      <th>country</th>\n",
       "      <td>1.000000</td>\n",
       "      <td>0.189353</td>\n",
       "      <td>0.018565</td>\n",
       "      <td>0.023316</td>\n",
       "      <td>0.024796</td>\n",
       "    </tr>\n",
       "    <tr>\n",
       "      <th>city</th>\n",
       "      <td>0.189353</td>\n",
       "      <td>1.000000</td>\n",
       "      <td>0.103752</td>\n",
       "      <td>0.108283</td>\n",
       "      <td>0.111936</td>\n",
       "    </tr>\n",
       "    <tr>\n",
       "      <th>artist</th>\n",
       "      <td>0.018565</td>\n",
       "      <td>0.103752</td>\n",
       "      <td>1.000000</td>\n",
       "      <td>0.946371</td>\n",
       "      <td>0.949177</td>\n",
       "    </tr>\n",
       "    <tr>\n",
       "      <th>album</th>\n",
       "      <td>0.023316</td>\n",
       "      <td>0.108283</td>\n",
       "      <td>0.946371</td>\n",
       "      <td>1.000000</td>\n",
       "      <td>0.976958</td>\n",
       "    </tr>\n",
       "    <tr>\n",
       "      <th>track</th>\n",
       "      <td>0.024796</td>\n",
       "      <td>0.111936</td>\n",
       "      <td>0.949177</td>\n",
       "      <td>0.976958</td>\n",
       "      <td>1.000000</td>\n",
       "    </tr>\n",
       "  </tbody>\n",
       "</table>\n",
       "</div>"
      ],
      "text/plain": [
       "          country      city    artist     album     track\n",
       "country  1.000000  0.189353  0.018565  0.023316  0.024796\n",
       "city     0.189353  1.000000  0.103752  0.108283  0.111936\n",
       "artist   0.018565  0.103752  1.000000  0.946371  0.949177\n",
       "album    0.023316  0.108283  0.946371  1.000000  0.976958\n",
       "track    0.024796  0.111936  0.949177  0.976958  1.000000"
      ]
     },
     "execution_count": 71,
     "metadata": {},
     "output_type": "execute_result"
    }
   ],
   "source": [
    "factorized_df"
   ]
  },
  {
   "cell_type": "code",
   "execution_count": 79,
   "id": "4b0fb84f",
   "metadata": {},
   "outputs": [
    {
     "data": {
      "text/html": [
       "<div>\n",
       "<style scoped>\n",
       "    .dataframe tbody tr th:only-of-type {\n",
       "        vertical-align: middle;\n",
       "    }\n",
       "\n",
       "    .dataframe tbody tr th {\n",
       "        vertical-align: top;\n",
       "    }\n",
       "\n",
       "    .dataframe thead th {\n",
       "        text-align: right;\n",
       "    }\n",
       "</style>\n",
       "<table border=\"1\" class=\"dataframe\">\n",
       "  <thead>\n",
       "    <tr style=\"text-align: right;\">\n",
       "      <th></th>\n",
       "      <th>country</th>\n",
       "      <th>city</th>\n",
       "      <th>artist</th>\n",
       "      <th>album</th>\n",
       "      <th>track</th>\n",
       "    </tr>\n",
       "  </thead>\n",
       "  <tbody>\n",
       "    <tr>\n",
       "      <th>0</th>\n",
       "      <td>Saudi Arabia</td>\n",
       "      <td>Jeddah</td>\n",
       "      <td>Tesher</td>\n",
       "      <td>Jalebi Baby</td>\n",
       "      <td>Jalebi Baby</td>\n",
       "    </tr>\n",
       "    <tr>\n",
       "      <th>1</th>\n",
       "      <td>Saudi Arabia</td>\n",
       "      <td>Jeddah</td>\n",
       "      <td>Tesher</td>\n",
       "      <td>Jalebi Baby</td>\n",
       "      <td>Jalebi Baby</td>\n",
       "    </tr>\n",
       "    <tr>\n",
       "      <th>2</th>\n",
       "      <td>India</td>\n",
       "      <td>Ludhiana</td>\n",
       "      <td>Reyanna Maria</td>\n",
       "      <td>So Pretty</td>\n",
       "      <td>So Pretty</td>\n",
       "    </tr>\n",
       "    <tr>\n",
       "      <th>3</th>\n",
       "      <td>France</td>\n",
       "      <td>Unknown</td>\n",
       "      <td>Simone &amp; Simaria, Sebastian Yatra</td>\n",
       "      <td>No Llores Más</td>\n",
       "      <td>No Llores Más</td>\n",
       "    </tr>\n",
       "    <tr>\n",
       "      <th>4</th>\n",
       "      <td>Maldives</td>\n",
       "      <td>Malé</td>\n",
       "      <td>Tesher</td>\n",
       "      <td>Jalebi Baby</td>\n",
       "      <td>Jalebi Baby</td>\n",
       "    </tr>\n",
       "    <tr>\n",
       "      <th>...</th>\n",
       "      <td>...</td>\n",
       "      <td>...</td>\n",
       "      <td>...</td>\n",
       "      <td>...</td>\n",
       "      <td>...</td>\n",
       "    </tr>\n",
       "    <tr>\n",
       "      <th>84258</th>\n",
       "      <td>United States</td>\n",
       "      <td>Brentwood</td>\n",
       "      <td>Tesher</td>\n",
       "      <td>Jalebi Baby</td>\n",
       "      <td>Jalebi Baby</td>\n",
       "    </tr>\n",
       "    <tr>\n",
       "      <th>84259</th>\n",
       "      <td>Saudi Arabia</td>\n",
       "      <td>Riyadh</td>\n",
       "      <td>Evanescence</td>\n",
       "      <td>Fallen</td>\n",
       "      <td>Bring Me To Life</td>\n",
       "    </tr>\n",
       "    <tr>\n",
       "      <th>84260</th>\n",
       "      <td>Ukraine</td>\n",
       "      <td>Kyiv</td>\n",
       "      <td>Miscél</td>\n",
       "      <td>when you left</td>\n",
       "      <td>when you left</td>\n",
       "    </tr>\n",
       "    <tr>\n",
       "      <th>84261</th>\n",
       "      <td>Saudi Arabia</td>\n",
       "      <td>Khamis Mushait</td>\n",
       "      <td>Anne-Marie</td>\n",
       "      <td>Beautiful</td>\n",
       "      <td>Beautiful</td>\n",
       "    </tr>\n",
       "    <tr>\n",
       "      <th>84262</th>\n",
       "      <td>Pakistan</td>\n",
       "      <td>Arifwala</td>\n",
       "      <td>Reyanna Maria</td>\n",
       "      <td>So Pretty</td>\n",
       "      <td>So Pretty</td>\n",
       "    </tr>\n",
       "  </tbody>\n",
       "</table>\n",
       "<p>79438 rows × 5 columns</p>\n",
       "</div>"
      ],
      "text/plain": [
       "             country            city                             artist  \\\n",
       "0       Saudi Arabia          Jeddah                             Tesher   \n",
       "1       Saudi Arabia          Jeddah                             Tesher   \n",
       "2              India        Ludhiana                      Reyanna Maria   \n",
       "3             France         Unknown  Simone & Simaria, Sebastian Yatra   \n",
       "4           Maldives            Malé                             Tesher   \n",
       "...              ...             ...                                ...   \n",
       "84258  United States       Brentwood                             Tesher   \n",
       "84259   Saudi Arabia          Riyadh                        Evanescence   \n",
       "84260        Ukraine            Kyiv                             Miscél   \n",
       "84261   Saudi Arabia  Khamis Mushait                         Anne-Marie   \n",
       "84262       Pakistan        Arifwala                      Reyanna Maria   \n",
       "\n",
       "               album             track  \n",
       "0        Jalebi Baby       Jalebi Baby  \n",
       "1        Jalebi Baby       Jalebi Baby  \n",
       "2          So Pretty         So Pretty  \n",
       "3      No Llores Más     No Llores Más  \n",
       "4        Jalebi Baby       Jalebi Baby  \n",
       "...              ...               ...  \n",
       "84258    Jalebi Baby       Jalebi Baby  \n",
       "84259         Fallen  Bring Me To Life  \n",
       "84260  when you left     when you left  \n",
       "84261      Beautiful         Beautiful  \n",
       "84262      So Pretty         So Pretty  \n",
       "\n",
       "[79438 rows x 5 columns]"
      ]
     },
     "execution_count": 79,
     "metadata": {},
     "output_type": "execute_result"
    }
   ],
   "source": [
    "df_q6[['country','city','artist','album','track']]"
   ]
  },
  {
   "cell_type": "code",
   "execution_count": null,
   "id": "566a1918",
   "metadata": {},
   "outputs": [],
   "source": []
  }
 ],
 "metadata": {
  "kernelspec": {
   "display_name": "Python 3 (ipykernel)",
   "language": "python",
   "name": "python3"
  },
  "language_info": {
   "codemirror_mode": {
    "name": "ipython",
    "version": 3
   },
   "file_extension": ".py",
   "mimetype": "text/x-python",
   "name": "python",
   "nbconvert_exporter": "python",
   "pygments_lexer": "ipython3",
   "version": "3.9.7"
  }
 },
 "nbformat": 4,
 "nbformat_minor": 5
}
